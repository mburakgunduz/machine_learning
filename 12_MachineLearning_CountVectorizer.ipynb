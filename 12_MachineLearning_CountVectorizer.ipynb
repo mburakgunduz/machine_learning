{
  "nbformat": 4,
  "nbformat_minor": 0,
  "metadata": {
    "colab": {
      "provenance": [],
      "authorship_tag": "ABX9TyNpZH0DCp2kqK2TpeqjKSWV",
      "include_colab_link": true
    },
    "kernelspec": {
      "name": "python3",
      "display_name": "Python 3"
    },
    "language_info": {
      "name": "python"
    }
  },
  "cells": [
    {
      "cell_type": "markdown",
      "metadata": {
        "id": "view-in-github",
        "colab_type": "text"
      },
      "source": [
        "<a href=\"https://colab.research.google.com/github/mburakgunduz/machine_learning/blob/main/12_MachineLearning_CountVectorizer.ipynb\" target=\"_parent\"><img src=\"https://colab.research.google.com/assets/colab-badge.svg\" alt=\"Open In Colab\"/></a>"
      ]
    },
    {
      "cell_type": "code",
      "execution_count": null,
      "metadata": {
        "id": "M5VLdurdUiGF"
      },
      "outputs": [],
      "source": [
        "import pandas as pd\n",
        "import numpy as np\n",
        "from sklearn.feature_extraction.text import CountVectorizer"
      ]
    },
    {
      "cell_type": "code",
      "source": [
        "# CountVectorizer dersi"
      ],
      "metadata": {
        "id": "BW08KFw5VB3F"
      },
      "execution_count": null,
      "outputs": []
    },
    {
      "cell_type": "code",
      "source": [
        "df=pd.DataFrame()"
      ],
      "metadata": {
        "id": "VG-oCa1rVJrA"
      },
      "execution_count": null,
      "outputs": []
    },
    {
      "cell_type": "code",
      "source": [
        "df['cumleler']=[\"ali bak\",\"ali ata bak\",\"bak ali bak\",\"ali güzel ata bak\",\"ışık ılık süt iç\",\"ışık süt iç\",\"iç ışık iç\"]"
      ],
      "metadata": {
        "id": "6i0O5CdMVOe3"
      },
      "execution_count": null,
      "outputs": []
    },
    {
      "cell_type": "code",
      "source": [
        "cv=CountVectorizer(max_features=5)"
      ],
      "metadata": {
        "id": "q5cqEQNlVbkw"
      },
      "execution_count": null,
      "outputs": []
    },
    {
      "cell_type": "code",
      "source": [
        "a=cv.fit_transform(df['cumleler'])"
      ],
      "metadata": {
        "id": "-Bq7pCTcVi57"
      },
      "execution_count": null,
      "outputs": []
    },
    {
      "cell_type": "code",
      "source": [
        "x=a.toarray()"
      ],
      "metadata": {
        "id": "YfVwILAeVgJf"
      },
      "execution_count": null,
      "outputs": []
    },
    {
      "cell_type": "code",
      "source": [
        "cv.get_feature_names_out()"
      ],
      "metadata": {
        "colab": {
          "base_uri": "https://localhost:8080/"
        },
        "id": "U2vtapuGVrVy",
        "outputId": "9673b08d-e04c-426f-948f-d7ecbbc2d1b9"
      },
      "execution_count": null,
      "outputs": [
        {
          "output_type": "execute_result",
          "data": {
            "text/plain": [
              "array(['ali', 'ata', 'bak', 'iç', 'ışık'], dtype=object)"
            ]
          },
          "metadata": {},
          "execution_count": 31
        }
      ]
    },
    {
      "cell_type": "code",
      "source": [
        "#stop words\n",
        "\n",
        "# ne, mesela, fakat gibi kelimeler"
      ],
      "metadata": {
        "id": "z14sY9FfXm8Y"
      },
      "execution_count": null,
      "outputs": []
    }
  ]
}